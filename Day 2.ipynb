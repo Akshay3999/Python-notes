{
 "cells": [
  {
   "cell_type": "code",
   "execution_count": null,
   "id": "a4a9c817",
   "metadata": {},
   "outputs": [],
   "source": [
    "# Q12. What is anonymous function in python?"
   ]
  },
  {
   "cell_type": "markdown",
   "id": "5e3c0136",
   "metadata": {},
   "source": [
    "- Python anonymous functions are also known as Lamda function \n",
    "- The keyword used is lambda and they are written in one line and it can have only one expression.\n",
    "- One-time task like performing arithmatic operators,sorting, loops etc."
   ]
  },
  {
   "cell_type": "code",
   "execution_count": 1,
   "id": "c23d38a6",
   "metadata": {},
   "outputs": [
    {
     "name": "stdout",
     "output_type": "stream",
     "text": [
      "5\n"
     ]
    }
   ],
   "source": [
    "# using it as anonymous function\n",
    "print((lambda a,b: a+b)(2,3))"
   ]
  },
  {
   "cell_type": "code",
   "execution_count": null,
   "id": "a33f0e6d",
   "metadata": {},
   "outputs": [],
   "source": [
    "#Q13. What is type conversion in python?"
   ]
  },
  {
   "cell_type": "markdown",
   "id": "52efc580",
   "metadata": {},
   "source": [
    "- The type conversion refers to the conversion of one data type into another.\n",
    "\n",
    "1) int()- Converts any data type into integer type.\\\n",
    "2) ord() - Converts characters into integers.\\\n",
    "3) hex() - Converts integers to hexadecimal.\\\n",
    "4) float() - Convert any data type into float type.\\\n",
    "5) oct() - Converts integer to octal.\\\n",
    "6) tuple() - This function is used to convert to a tuple.\\\n",
    "7) set() - This function returns the type after conversion to set.\\\n",
    "8) list() -This function return the type after any data type to a list type.\\\n",
    "9) dict() -This function is used to converts a tuple or order (key ,value) into a dictionary.\\\n",
    "10) str() -Used to convert integers into a string.\\\n",
    "11) complex (real,imag) - This function converts real numbers to complex(real, imag) number."
   ]
  },
  {
   "cell_type": "code",
   "execution_count": null,
   "id": "5ccb5389",
   "metadata": {},
   "outputs": [],
   "source": [
    "#Q14. What is the differnce between python Arrays and lists?"
   ]
  },
  {
   "cell_type": "markdown",
   "id": "6885fe56",
   "metadata": {},
   "source": [
    "- Arrays and lists, in python have the same way of storing data.\n",
    "- But, arrays can hold only a single data type elements whereas lists can hold any data type elements."
   ]
  },
  {
   "cell_type": "code",
   "execution_count": 10,
   "id": "e4f0f482",
   "metadata": {},
   "outputs": [
    {
     "name": "stdout",
     "output_type": "stream",
     "text": [
      "array('i', [1, 2, 3, 4, 5])\n"
     ]
    }
   ],
   "source": [
    "# Example of arrays\n",
    "from array import *\n",
    "\n",
    "vals = array('i',[1,2,3,4,5])\n",
    "print(vals)"
   ]
  },
  {
   "cell_type": "code",
   "execution_count": 14,
   "id": "89d25c0c",
   "metadata": {},
   "outputs": [
    {
     "name": "stdout",
     "output_type": "stream",
     "text": [
      "Akshay\n"
     ]
    }
   ],
   "source": [
    "# Example of list :\n",
    "lis = [1,2,3,'Akshay', 19.8]\n",
    "    \n",
    "print(lis[3])"
   ]
  },
  {
   "cell_type": "code",
   "execution_count": null,
   "id": "9f2cfa65",
   "metadata": {},
   "outputs": [],
   "source": [
    "# Q15.What are functions in python?"
   ]
  },
  {
   "cell_type": "markdown",
   "id": "938a7f6c",
   "metadata": {},
   "source": [
    "* Definition: Function are nothing but a block of code which performs a specific task and can be called again and again as per requirement in the code.\n",
    "* A  generic way to write a simple function is shown below-"
   ]
  },
  {
   "cell_type": "code",
   "execution_count": null,
   "id": "60d58f72",
   "metadata": {},
   "outputs": [],
   "source": [
    "def function_name():\n",
    "# function body starts\n",
    "    pass\n",
    "# function body ends\n",
    "# calling function in the code- \n",
    "function_name()"
   ]
  },
  {
   "cell_type": "code",
   "execution_count": null,
   "id": "8de5ead5",
   "metadata": {},
   "outputs": [],
   "source": [
    "# Q16. What is __init__ and __str__ role int python?"
   ]
  },
  {
   "cell_type": "markdown",
   "id": "b3eef8f2",
   "metadata": {},
   "source": [
    "- __init__ and __str__ methods are called dunder methods.\n",
    "- We can call as dunder methods beacause they begin and end with double underscore."
   ]
  },
  {
   "cell_type": "code",
   "execution_count": 28,
   "id": "ca8513ff",
   "metadata": {},
   "outputs": [
    {
     "data": {
      "text/plain": [
       "2000"
      ]
     },
     "execution_count": 28,
     "metadata": {},
     "output_type": "execute_result"
    }
   ],
   "source": [
    "# Example:\n",
    "class Emplo:\n",
    "    def __init__(self,aname,asalary,aid):\n",
    "        self.name = aname\n",
    "        self.salary = asalary\n",
    "        self.id = aid\n",
    "a = Emplo(\"Akshay\",2000,90)\n",
    "a.salary"
   ]
  },
  {
   "cell_type": "code",
   "execution_count": null,
   "id": "65480a53",
   "metadata": {},
   "outputs": [],
   "source": [
    "# Q17. What is self in python?"
   ]
  },
  {
   "cell_type": "markdown",
   "id": "891ce01c",
   "metadata": {},
   "source": [
    "- Self is the instance and object of a class.\n",
    "- The self parameter is a reference to the current instance of the class, and is used to access variables that belongs to the class."
   ]
  },
  {
   "cell_type": "code",
   "execution_count": null,
   "id": "3b0bb06c",
   "metadata": {},
   "outputs": [],
   "source": [
    "# Q18. How does break, continue and pass work?"
   ]
  },
  {
   "cell_type": "markdown",
   "id": "bae36f5c",
   "metadata": {},
   "source": [
    "I) Break :\\\n",
    "    - is a python loop control statement.\\\n",
    "    - It is used to control the sequence of the loop.\\\n",
    "    - Suppose you want to terminate a loopand skip to the next code after the loop."
   ]
  },
  {
   "cell_type": "code",
   "execution_count": 3,
   "id": "5696846e",
   "metadata": {},
   "outputs": [
    {
     "name": "stdout",
     "output_type": "stream",
     "text": [
      "0\n",
      "1\n",
      "2\n",
      "3\n",
      "4\n"
     ]
    }
   ],
   "source": [
    "# Example:\n",
    "for i in range(10):\n",
    "    if i == 5:\n",
    "        break\n",
    "    print(i)"
   ]
  },
  {
   "cell_type": "markdown",
   "id": "ac23190a",
   "metadata": {},
   "source": [
    "II) Continue: \n",
    "    Python Continue statement is a loop control statement that forces to execute the next iteration of the loop while skipping the rest of the code inside the loop for the current iteration only"
   ]
  },
  {
   "cell_type": "code",
   "execution_count": 4,
   "id": "e71bb675",
   "metadata": {},
   "outputs": [
    {
     "name": "stdout",
     "output_type": "stream",
     "text": [
      "A\n",
      "k\n",
      "s\n",
      "a\n",
      "y\n"
     ]
    }
   ],
   "source": [
    "# Example:\n",
    "for i in \"Akshay\":\n",
    "    if i == \"h\":\n",
    "        continue\n",
    "    print(i)"
   ]
  },
  {
   "cell_type": "markdown",
   "id": "ed5d0b5b",
   "metadata": {},
   "source": [
    "III) Pass:\\\n",
    "    - The pass statement used as a placeholder i.e.. when the does not know what code to write.\\\n",
    "    - So user simply places pass at thet line."
   ]
  },
  {
   "cell_type": "code",
   "execution_count": 6,
   "id": "675d156e",
   "metadata": {},
   "outputs": [],
   "source": [
    "# Example:\n",
    "def Akshay():\n",
    "    pass"
   ]
  },
  {
   "cell_type": "code",
   "execution_count": null,
   "id": "8f40d9d4",
   "metadata": {},
   "outputs": [],
   "source": [
    "# Q17. What does [::-1]do ?"
   ]
  },
  {
   "cell_type": "markdown",
   "id": "2ac87e34",
   "metadata": {},
   "source": [
    "- [::-1] is used to reverse the order af an array or a sequence."
   ]
  },
  {
   "cell_type": "code",
   "execution_count": 7,
   "id": "14d3e588",
   "metadata": {},
   "outputs": [
    {
     "data": {
      "text/plain": [
       "[5, 4, 3, 2, 1]"
      ]
     },
     "execution_count": 7,
     "metadata": {},
     "output_type": "execute_result"
    }
   ],
   "source": [
    "# Example:\n",
    "lt = [1,2,3,4,5]\n",
    "lt[::-1]"
   ]
  },
  {
   "cell_type": "code",
   "execution_count": 5,
   "id": "5a6799ff",
   "metadata": {},
   "outputs": [
    {
     "data": {
      "text/plain": [
       "[5, 4, 3, 2, 1]"
      ]
     },
     "execution_count": 5,
     "metadata": {},
     "output_type": "execute_result"
    }
   ],
   "source": [
    "# example:\n",
    "l = [1,2,3,4,5]\n",
    "\n",
    "array = l[::-1]\n",
    "array"
   ]
  },
  {
   "cell_type": "code",
   "execution_count": null,
   "id": "b75ae54c",
   "metadata": {},
   "outputs": [],
   "source": [
    "# Q18. How do you write comments in python?"
   ]
  },
  {
   "cell_type": "code",
   "execution_count": 9,
   "id": "435deee1",
   "metadata": {},
   "outputs": [
    {
     "data": {
      "text/plain": [
       "'However, alternative at times, commenting is done using docstring(string enclosed within triple qoutes)'"
      ]
     },
     "execution_count": 9,
     "metadata": {},
     "output_type": "execute_result"
    }
   ],
   "source": [
    "# Comments in python start with # character.\n",
    "\n",
    "'''However, alternative at times, commenting is done using docstring(string enclosed within triple qoutes)'''"
   ]
  },
  {
   "cell_type": "code",
   "execution_count": null,
   "id": "8d523cfe",
   "metadata": {},
   "outputs": [],
   "source": [
    "# Q19. What is Iterator?"
   ]
  },
  {
   "cell_type": "markdown",
   "id": "b061ca08",
   "metadata": {},
   "source": [
    "- The process of reapeated more than one time by appling the same logic is called an iterator.\\\n",
    "- Using an iterator -/\n",
    "    * iter() - keyword is used to create an iterator contanining an iterable object.\\\n",
    "    * next() - Keyword is used to call the next element in the iterable object."
   ]
  },
  {
   "cell_type": "code",
   "execution_count": 11,
   "id": "c284b797",
   "metadata": {},
   "outputs": [
    {
     "name": "stdout",
     "output_type": "stream",
     "text": [
      "First element :  1 \n",
      "\n",
      "2 3 4 5 6 7 8 9 "
     ]
    }
   ],
   "source": [
    "# example\n",
    "list = [1,2,3,4,5,6,7,8,9] # List containing from 1 to 9\n",
    "itr = iter(list) # iterator object created\n",
    "print(\"First element : \",next(itr),'\\n') # It prints the next element in iterator.\n",
    "\n",
    "'''As we have iterated first element first element using next function so it start iterating from next element'''\n",
    "for x in itr:\n",
    "    print(x, end=\" \")"
   ]
  },
  {
   "cell_type": "code",
   "execution_count": 12,
   "id": "847c1e63",
   "metadata": {},
   "outputs": [
    {
     "data": {
      "text/plain": [
       "1"
      ]
     },
     "execution_count": 12,
     "metadata": {},
     "output_type": "execute_result"
    }
   ],
   "source": [
    "'''We can simply perform by next( function also)'''\n",
    "l = [1,2,3,4,5]\n",
    "it = iter(l)\n",
    "next(it)"
   ]
  },
  {
   "cell_type": "code",
   "execution_count": 13,
   "id": "3e86102a",
   "metadata": {},
   "outputs": [
    {
     "data": {
      "text/plain": [
       "2"
      ]
     },
     "execution_count": 13,
     "metadata": {},
     "output_type": "execute_result"
    }
   ],
   "source": [
    "next(it)"
   ]
  },
  {
   "cell_type": "code",
   "execution_count": 14,
   "id": "1173f0db",
   "metadata": {},
   "outputs": [
    {
     "data": {
      "text/plain": [
       "3"
      ]
     },
     "execution_count": 14,
     "metadata": {},
     "output_type": "execute_result"
    }
   ],
   "source": [
    "next(it)"
   ]
  },
  {
   "cell_type": "code",
   "execution_count": 15,
   "id": "d862a701",
   "metadata": {},
   "outputs": [
    {
     "data": {
      "text/plain": [
       "4"
      ]
     },
     "execution_count": 15,
     "metadata": {},
     "output_type": "execute_result"
    }
   ],
   "source": [
    "next(it)"
   ]
  },
  {
   "cell_type": "code",
   "execution_count": 16,
   "id": "e7e802dd",
   "metadata": {},
   "outputs": [
    {
     "data": {
      "text/plain": [
       "5"
      ]
     },
     "execution_count": 16,
     "metadata": {},
     "output_type": "execute_result"
    }
   ],
   "source": [
    "next(it)"
   ]
  },
  {
   "cell_type": "code",
   "execution_count": null,
   "id": "c6c97529",
   "metadata": {},
   "outputs": [],
   "source": [
    "# Q19. What is Generators?"
   ]
  },
  {
   "cell_type": "markdown",
   "id": "c180a821",
   "metadata": {},
   "source": [
    "- It is another way of creating iterating in a simple way where it uses the keyword \"Yield\" instead of retuning it in a defined function.\n",
    "- Generators are imlemented using a function."
   ]
  },
  {
   "cell_type": "code",
   "execution_count": 7,
   "id": "8615f3c2",
   "metadata": {},
   "outputs": [
    {
     "name": "stdout",
     "output_type": "stream",
     "text": [
      "Numbers:  0 cube: 0\n",
      "Numbers:  1 cube: 1\n",
      "Numbers:  2 cube: 8\n",
      "Numbers:  3 cube: 27\n",
      "Numbers:  4 cube: 64\n",
      "Numbers:  5 cube: 125\n",
      "Numbers:  6 cube: 216\n",
      "Numbers:  7 cube: 343\n",
      "Numbers:  8 cube: 512\n",
      "Numbers:  9 cube: 729\n"
     ]
    }
   ],
   "source": [
    "def gencube(n):\n",
    "    for num in range(n):\n",
    "        yield num,num**3\n",
    "        \n",
    "for i,x in gencube(10):\n",
    "    print('Numbers: ',i,'cube:',x)"
   ]
  },
  {
   "cell_type": "code",
   "execution_count": 8,
   "id": "8a781ea8",
   "metadata": {},
   "outputs": [
    {
     "name": "stdout",
     "output_type": "stream",
     "text": [
      "0 - 1\n",
      "1 - 1\n",
      "2 - 2\n",
      "3 - 3\n",
      "4 - 5\n",
      "5 - 8\n",
      "6 - 13\n",
      "7 - 21\n",
      "8 - 34\n",
      "9 - 55\n"
     ]
    }
   ],
   "source": [
    "'''Generate a fibonacci sequnce up to n'''\n",
    "def genfibon(n):\n",
    "    a = 1\n",
    "    b = 1\n",
    "    for i in range(n):\n",
    "        yield a,i\n",
    "        a,b = b, a+b\n",
    "\n",
    "for num,i in genfibon(10):\n",
    "    print(i,'-',num)"
   ]
  },
  {
   "cell_type": "code",
   "execution_count": null,
   "id": "5af4e5f3",
   "metadata": {},
   "outputs": [],
   "source": [
    "# Q20. What is comparison Between python Generator and Iterator."
   ]
  },
  {
   "cell_type": "markdown",
   "id": "2ed53ce9",
   "metadata": {},
   "source": [
    "Iterator\n",
    "- Implemented using a class int he code\n",
    "- Iterator does not use any keywords\n",
    "- Iterator implements it's own class\n",
    "- Iterator also does not uses local varibal\n",
    "- Does not use the yield keyword any where in the code.\n",
    "- Iterator use the iter() and next() functions.\n",
    "- Iterator is memory efficient."
   ]
  },
  {
   "cell_type": "markdown",
   "id": "aaed01b2",
   "metadata": {},
   "source": [
    "Generator\n",
    "\n",
    "- Implemented using function defined in the runtime.\n",
    "- Generator uses the 'yield' keyword.\n",
    "- Generator does not need a class in python.\n",
    "- Generator saves the states of the local variable.\n",
    "- user the yield keyword for the output.\n",
    "- Generator use python function.\n",
    "- Generator is not mameory eficient."
   ]
  },
  {
   "cell_type": "code",
   "execution_count": null,
   "id": "1f23132c",
   "metadata": {},
   "outputs": [],
   "source": []
  }
 ],
 "metadata": {
  "kernelspec": {
   "display_name": "Python 3 (ipykernel)",
   "language": "python",
   "name": "python3"
  },
  "language_info": {
   "codemirror_mode": {
    "name": "ipython",
    "version": 3
   },
   "file_extension": ".py",
   "mimetype": "text/x-python",
   "name": "python",
   "nbconvert_exporter": "python",
   "pygments_lexer": "ipython3",
   "version": "3.8.8"
  }
 },
 "nbformat": 4,
 "nbformat_minor": 5
}
