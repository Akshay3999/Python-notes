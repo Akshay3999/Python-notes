{
 "cells": [
  {
   "cell_type": "code",
   "execution_count": null,
   "id": "4039460d",
   "metadata": {},
   "outputs": [],
   "source": [
    "#Q1. What are key fratures of python?"
   ]
  },
  {
   "cell_type": "code",
   "execution_count": null,
   "id": "9a473118",
   "metadata": {},
   "outputs": [],
   "source": [
    "1) Python is easy to learn due to its clear syntax and readability.\n",
    "2) Python is easy to interpret, making and debugging easy.\n",
    "3) Python free and open-source.\n",
    "4) It can be used across differnt languages.\n",
    "5) It is object-oriented language which supports \n",
    "concepts of classses.\n",
    "6) It can be easily integrated with other languages like c++, java and more."
   ]
  },
  {
   "cell_type": "code",
   "execution_count": 1,
   "id": "6207bc99",
   "metadata": {},
   "outputs": [],
   "source": [
    "# Q2. What is difference between list and tuple in python?"
   ]
  },
  {
   "cell_type": "code",
   "execution_count": null,
   "id": "78e01691",
   "metadata": {},
   "outputs": [],
   "source": [
    "# List\n",
    "1) Lists are mutable i.e they can be edited.\n",
    "2) Lists are slower than tuple\n",
    "3) Syntax: list_l =[10,'chelsa',20]\n",
    "    \"The items are surrounded in square brackets[].\"\n",
    "4) List consumes lot of memory/storage."
   ]
  },
  {
   "cell_type": "code",
   "execution_count": null,
   "id": "a4c7bdae",
   "metadata": {},
   "outputs": [],
   "source": [
    "# Tuples\n",
    "1) Tuples are immutable (tuple are list which can't be edited.)\n",
    "2) Tuples are faster than list.\n",
    "3) Syntax: tup_l = (10,'chelsa',20)\n",
    "    \"The items are surrounded in paranthesis()\"\n",
    "4) Tuple consumes a less storage/memory."
   ]
  },
  {
   "cell_type": "code",
   "execution_count": null,
   "id": "542ab204",
   "metadata": {},
   "outputs": [],
   "source": [
    "# Q3. What is Mutable Definition."
   ]
  },
  {
   "cell_type": "code",
   "execution_count": null,
   "id": "72a07e0a",
   "metadata": {},
   "outputs": [],
   "source": [
    "- Mutable is when somthing is changes or has the ability to change.\n",
    "- In python 'mutable' is the ability of the objects to changes thier values.\n",
    "# e.g :\n",
    "List, set, Dictionary and user defined classes."
   ]
  },
  {
   "cell_type": "code",
   "execution_count": 3,
   "id": "4aefd4f1",
   "metadata": {},
   "outputs": [
    {
     "data": {
      "text/plain": [
       "[1, 2, 3, 4, 5]"
      ]
     },
     "execution_count": 3,
     "metadata": {},
     "output_type": "execute_result"
    }
   ],
   "source": [
    "# example list\n",
    "mutable_object = [1,\"Akshay\",3,4,5]\n",
    "mutable_object[1] = 2\n",
    "mutable_object"
   ]
  },
  {
   "cell_type": "code",
   "execution_count": 21,
   "id": "e1ceedf4",
   "metadata": {},
   "outputs": [
    {
     "name": "stdout",
     "output_type": "stream",
     "text": [
      "['z', 2, 3, 4, 5]\n"
     ]
    }
   ],
   "source": [
    "# example set\n",
    "mutable_obj = {\"AKshay\", \"Swami\", \"Pavan\", \"Kunal\"}\n",
    "mutable_obj = list(mutable_obj)\n",
    "mutable_object[0] = 'z'\n",
    "print(mutable_object)"
   ]
  },
  {
   "cell_type": "code",
   "execution_count": 23,
   "id": "5a138f1e",
   "metadata": {},
   "outputs": [
    {
     "data": {
      "text/plain": [
       "{'name': 'Akshay', 'Address': 'Velapur', 'BOD': 1999}"
      ]
     },
     "execution_count": 23,
     "metadata": {},
     "output_type": "execute_result"
    }
   ],
   "source": [
    "# example Dictionary\n",
    "mutable_obj = {\"name\":\"Akshay\",\n",
    "              \"Address\": \"Velapur\",\n",
    "              \"BOD\": 2000}\n",
    "mutable_obj[\"BOD\"] = 1999\n",
    "mutable_obj"
   ]
  },
  {
   "cell_type": "code",
   "execution_count": null,
   "id": "02c82650",
   "metadata": {},
   "outputs": [],
   "source": [
    "# Q4. What is Immutable Definition?"
   ]
  },
  {
   "cell_type": "code",
   "execution_count": null,
   "id": "f7fc9035",
   "metadata": {},
   "outputs": [],
   "source": [
    "- In python, if you value of an object cannot be changed over time, then it is knowm as immutable.\n",
    "- Once created , the value of these  objects is permanent.\n",
    "e.g: \n",
    "    Numbers, strings, tuples and Frozen sets."
   ]
  },
  {
   "cell_type": "code",
   "execution_count": 24,
   "id": "16875305",
   "metadata": {},
   "outputs": [
    {
     "ename": "TypeError",
     "evalue": "'tuple' object does not support item assignment",
     "output_type": "error",
     "traceback": [
      "\u001b[1;31m---------------------------------------------------------------------------\u001b[0m",
      "\u001b[1;31mTypeError\u001b[0m                                 Traceback (most recent call last)",
      "Input \u001b[1;32mIn [24]\u001b[0m, in \u001b[0;36m<cell line: 2>\u001b[1;34m()\u001b[0m\n\u001b[0;32m      1\u001b[0m imutable_obj \u001b[38;5;241m=\u001b[39m (\u001b[38;5;241m1\u001b[39m,\u001b[38;5;241m2\u001b[39m,\u001b[38;5;241m3\u001b[39m)\n\u001b[1;32m----> 2\u001b[0m \u001b[43mimutable_obj\u001b[49m\u001b[43m[\u001b[49m\u001b[38;5;241;43m1\u001b[39;49m\u001b[43m]\u001b[49m \u001b[38;5;241m=\u001b[39m \u001b[38;5;241m4\u001b[39m\n\u001b[0;32m      3\u001b[0m imutable_obj\n",
      "\u001b[1;31mTypeError\u001b[0m: 'tuple' object does not support item assignment"
     ]
    }
   ],
   "source": [
    "# example tuple\n",
    "imutable_obj = (1,2,3)\n",
    "imutable_obj[1] = 4\n",
    "imutable_obj"
   ]
  },
  {
   "cell_type": "code",
   "execution_count": 25,
   "id": "6e0a8e03",
   "metadata": {},
   "outputs": [
    {
     "ename": "TypeError",
     "evalue": "'frozenset' object does not support item assignment",
     "output_type": "error",
     "traceback": [
      "\u001b[1;31m---------------------------------------------------------------------------\u001b[0m",
      "\u001b[1;31mTypeError\u001b[0m                                 Traceback (most recent call last)",
      "Input \u001b[1;32mIn [25]\u001b[0m, in \u001b[0;36m<cell line: 6>\u001b[1;34m()\u001b[0m\n\u001b[0;32m      2\u001b[0m Frozen_set \u001b[38;5;241m=\u001b[39m (\u001b[38;5;241m1\u001b[39m,\u001b[38;5;241m2\u001b[39m,\u001b[38;5;241m3\u001b[39m,\u001b[38;5;241m4\u001b[39m,\u001b[38;5;241m5\u001b[39m,\u001b[38;5;241m6\u001b[39m,\u001b[38;5;241m7\u001b[39m,\u001b[38;5;241m8\u001b[39m,\u001b[38;5;241m9\u001b[39m)\n\u001b[0;32m      4\u001b[0m Frozen \u001b[38;5;241m=\u001b[39m \u001b[38;5;28mfrozenset\u001b[39m(Frozen_set)\n\u001b[1;32m----> 6\u001b[0m \u001b[43mFrozen\u001b[49m\u001b[43m[\u001b[49m\u001b[38;5;241;43m3\u001b[39;49m\u001b[43m]\u001b[49m \u001b[38;5;241m=\u001b[39m \u001b[38;5;241m10\u001b[39m\n\u001b[0;32m      8\u001b[0m Frozen\n",
      "\u001b[1;31mTypeError\u001b[0m: 'frozenset' object does not support item assignment"
     ]
    }
   ],
   "source": [
    "# example of Frozen sts\n",
    "Frozen_set = (1,2,3,4,5,6,7,8,9)\n",
    "\n",
    "Frozen = frozenset(Frozen_set)\n",
    "\n",
    "Frozen[3] = 10\n",
    "\n",
    "Frozen"
   ]
  },
  {
   "cell_type": "code",
   "execution_count": null,
   "id": "b2e7fdab",
   "metadata": {},
   "outputs": [],
   "source": [
    "# Q6. What is Object in python?\n",
    "-Identity\n",
    "-Type\n",
    "-Value"
   ]
  },
  {
   "cell_type": "markdown",
   "id": "48faf665",
   "metadata": {},
   "source": [
    "1) Identity:\n",
    "    Identity operator are used to camparing the objects if both object are actully are the same data type and share the same memory location."
   ]
  },
  {
   "cell_type": "code",
   "execution_count": 37,
   "id": "25b46847",
   "metadata": {},
   "outputs": [
    {
     "name": "stdout",
     "output_type": "stream",
     "text": [
      "140720129058736\n",
      "140720129058736\n"
     ]
    }
   ],
   "source": [
    "# example of Identity\n",
    "x = 5\n",
    "y = 5\n",
    "\n",
    "print(id(x))\n",
    "print(id(y))"
   ]
  },
  {
   "cell_type": "markdown",
   "id": "d8d6687c",
   "metadata": {},
   "source": [
    "2) Type: If only one parameter is specified, the type() function returns the type of this object."
   ]
  },
  {
   "cell_type": "code",
   "execution_count": 39,
   "id": "a05442cf",
   "metadata": {},
   "outputs": [
    {
     "name": "stdout",
     "output_type": "stream",
     "text": [
      "<class 'tuple'>\n",
      "<class 'list'>\n",
      "<class 'set'>\n",
      "<class 'dict'>\n",
      "<class 'int'>\n",
      "<class 'float'>\n"
     ]
    }
   ],
   "source": [
    "a = (1,2,3,4)\n",
    "b = [1,2,3,4,5]\n",
    "c = {1,2,3,4,5}\n",
    "d = {\"A\":\"A\",\"B\":\"B\",\"C\":\"c\"}\n",
    "e = 10\n",
    "f = 10.2\n",
    "\n",
    "print(type(a))\n",
    "print(type(b))\n",
    "print(type(c))\n",
    "print(type(d))\n",
    "print(type(e))\n",
    "print(type(f))"
   ]
  },
  {
   "cell_type": "code",
   "execution_count": null,
   "id": "0d44079b",
   "metadata": {},
   "outputs": [],
   "source": [
    "3) Value: The values() method returns a view object. The view object contains the values of the dictionary, as a list."
   ]
  },
  {
   "cell_type": "code",
   "execution_count": 40,
   "id": "e9beb292",
   "metadata": {},
   "outputs": [
    {
     "name": "stdout",
     "output_type": "stream",
     "text": [
      "dict_values(['name', 'Adrress', 'DOB'])\n"
     ]
    }
   ],
   "source": [
    "# example:\n",
    "x = {\"Akshay\":\"name\",\n",
    "    \"Velapue\": \"Adrress\",\n",
    "    \"1999\":\"DOB\"}\n",
    "print(x.values())"
   ]
  },
  {
   "cell_type": "code",
   "execution_count": null,
   "id": "44b83bf3",
   "metadata": {},
   "outputs": [],
   "source": [
    "# Q7. What is Decorators in python?"
   ]
  },
  {
   "cell_type": "markdown",
   "id": "9442c07a",
   "metadata": {},
   "source": [
    "Decorators is a were do you calling function within the function then you are also passing function as a parameter."
   ]
  },
  {
   "cell_type": "code",
   "execution_count": 9,
   "id": "d9dc06a1",
   "metadata": {},
   "outputs": [
    {
     "name": "stdout",
     "output_type": "stream",
     "text": [
      "Execute now\n",
      "Akshay is a good boy\n",
      "Executed\n"
     ]
    }
   ],
   "source": [
    "def dec1(func1):\n",
    "    def nowexec():\n",
    "        print(\"Execute now\")\n",
    "        func1()\n",
    "        print(\"Executed\")\n",
    "    return nowexec\n",
    "\n",
    "@dec1\n",
    "def Akshay():\n",
    "    print(\"Akshay is a good boy\")\n",
    "# who_is_Akshay =dec1(Akshay)\n",
    "Akshay()"
   ]
  },
  {
   "cell_type": "code",
   "execution_count": null,
   "id": "d4f8a1c0",
   "metadata": {},
   "outputs": [],
   "source": [
    "# Q8. What are global, protected and private attribute in python?."
   ]
  },
  {
   "cell_type": "markdown",
   "id": "3a1f242d",
   "metadata": {},
   "source": [
    "- Global(also known as public),private,protected attributes are used by a language to restrict the acess to usage of class.\n",
    "\n",
    "- In short, public members can be accesses from anyehere in the class, private members can be accessed only from within the class and protected members can be accessed only from within the subclass.\n",
    "\n",
    "- All members are allowed to be accessed from within the clss."
   ]
  },
  {
   "cell_type": "code",
   "execution_count": 11,
   "id": "cc98571f",
   "metadata": {},
   "outputs": [
    {
     "data": {
      "text/plain": [
       "1234"
      ]
     },
     "execution_count": 11,
     "metadata": {},
     "output_type": "execute_result"
    }
   ],
   "source": [
    "# 1) Public atttribute\n",
    "# all members in a python class are public by defult. Any member can be accessed from outside the class envirement.\n",
    "\n",
    "class student:\n",
    "    def __init__(self,name,id):\n",
    "        self.name=name\n",
    "        self.id=id\n",
    "        \n",
    "s1=student(\"Akshay\",1234)\n",
    "s1.id"
   ]
  },
  {
   "cell_type": "code",
   "execution_count": 15,
   "id": "1f87199a",
   "metadata": {},
   "outputs": [
    {
     "data": {
      "text/plain": [
       "1234"
      ]
     },
     "execution_count": 15,
     "metadata": {},
     "output_type": "execute_result"
    }
   ],
   "source": [
    "# 2) Protected\n",
    "# Python,s conversion to make an instance variable protected is to add a prefix_(single underscore)to it. This effectively prevents it to be accessed unless it is from within a sub-class.\n",
    "\n",
    "class employee:\n",
    "    def __init__(self,name,sal):\n",
    "        self._name=name\n",
    "        self._salary=sal\n",
    "        \n",
    "e1=employee(\"Akshay\",1234)\n",
    "e1._salary"
   ]
  },
  {
   "cell_type": "code",
   "execution_count": 21,
   "id": "21593d08",
   "metadata": {},
   "outputs": [
    {
     "data": {
      "text/plain": [
       "'Computer Sceince'"
      ]
     },
     "execution_count": 21,
     "metadata": {},
     "output_type": "execute_result"
    }
   ],
   "source": [
    "# 3) Private attributes\n",
    "# a double underscore __prefixed to a variable makes it private.You cannot access this variable from outside the class. If tried to access, it will throw an AttributeError.\n",
    "\n",
    "class department:\n",
    "    def __init__(self,name,id):\n",
    "        self.__name=name #private attribute\n",
    "        self.__id=id #private attribute\n",
    "        \n",
    "d1=department(\"Computer Sceince\",1000)\n",
    "d1._department__name # use by class name _department__name"
   ]
  },
  {
   "cell_type": "code",
   "execution_count": null,
   "id": "f25d4aac",
   "metadata": {},
   "outputs": [],
   "source": [
    "#Q9. What is slicing in python?"
   ]
  },
  {
   "cell_type": "markdown",
   "id": "6dc84b29",
   "metadata": {},
   "source": [
    "Slicing is used to acess parts of sequence like lists, tuples and strings.\n",
    "Lst[Initial : End : IndexJump]."
   ]
  },
  {
   "cell_type": "code",
   "execution_count": 23,
   "id": "fcf56073",
   "metadata": {},
   "outputs": [
    {
     "name": "stdout",
     "output_type": "stream",
     "text": [
      "[50, 70, 30, 20, 90, 10, 50]\n"
     ]
    }
   ],
   "source": [
    "# List\n",
    "# 1) Positive indexes\n",
    "# Initialize list\n",
    "Lst = [50, 70, 30, 20, 90, 10, 50]\n",
    "\n",
    "#Display list\n",
    "print(Lst[::])"
   ]
  },
  {
   "cell_type": "code",
   "execution_count": 41,
   "id": "8a6987bc",
   "metadata": {},
   "outputs": [
    {
     "name": "stdout",
     "output_type": "stream",
     "text": [
      "[20, 40]\n"
     ]
    }
   ],
   "source": [
    "# 2) Negative Indexes\n",
    "# Initial list\n",
    "List = [10, 20, 30, 40, 50]\n",
    "\n",
    "# Display list\n",
    "print(List[-4::2])"
   ]
  },
  {
   "cell_type": "code",
   "execution_count": 48,
   "id": "aaa285dd",
   "metadata": {},
   "outputs": [
    {
     "name": "stdout",
     "output_type": "stream",
     "text": [
      "\n",
      "Original List:\n",
      " [1, 2, 3, 4, 5]\n",
      "\\Sliced Lists: \n",
      "[3]\n",
      "[1, 3, 5]\n",
      "[1, 2, 3, 4, 5]\n"
     ]
    }
   ],
   "source": [
    "# 1) Slicing\n",
    "List = [1,2,3,4,5]\n",
    "\n",
    "# show original list\n",
    "print(\"\\nOriginal List:\\n\",List)\n",
    "print(\"\\Sliced Lists: \")\n",
    "print(List[2:4:2])\n",
    "\n",
    "#Display sliced list\n",
    "print(List[::2])\n",
    "\n",
    "# Display sliced list\n",
    "print(List[::])"
   ]
  },
  {
   "cell_type": "code",
   "execution_count": 52,
   "id": "8fed4fc2",
   "metadata": {},
   "outputs": [
    {
     "name": "stdout",
     "output_type": "stream",
     "text": [
      "\n",
      "Original List:\n",
      " ['Geeks', 4, 'geeks !']\n",
      "\n",
      "Sliced Lists: \n",
      "['geeks !', 4, 'Geeks']\n",
      "['geeks !']\n",
      "['geeks !']\n"
     ]
    }
   ],
   "source": [
    "# Initial list\n",
    "List = ['Geeks', 4, 'geeks !']\n",
    "\n",
    "# Show original list\n",
    "print(\"\\nOriginal List:\\n\",List)\n",
    "\n",
    "print(\"\\nSliced Lists: \")\n",
    "\n",
    "# Display sliced list\n",
    "print(List[::-1])\n",
    "\n",
    "# Display sliced list\n",
    "print(List[::-3])\n",
    "\n",
    "# Diaplay sliced list\n",
    "print(List[:1:-2])"
   ]
  },
  {
   "cell_type": "code",
   "execution_count": 55,
   "id": "24e8dcab",
   "metadata": {},
   "outputs": [
    {
     "data": {
      "text/plain": [
       "'Python for'"
      ]
     },
     "execution_count": 55,
     "metadata": {},
     "output_type": "execute_result"
    }
   ],
   "source": [
    "# example string\n",
    "myString = \"Python for beginners\"\n",
    "mySlice = myString[0:10:1]\n",
    "mySlice"
   ]
  },
  {
   "cell_type": "code",
   "execution_count": 57,
   "id": "d1025854",
   "metadata": {},
   "outputs": [
    {
     "data": {
      "text/plain": [
       "'Hi i am Ak'"
      ]
     },
     "execution_count": 57,
     "metadata": {},
     "output_type": "execute_result"
    }
   ],
   "source": [
    "myString = \"Hi i am Akshay\"\n",
    "mySlice = myString[0:10]\n",
    "mySlice"
   ]
  },
  {
   "cell_type": "code",
   "execution_count": 61,
   "id": "e8e98904",
   "metadata": {},
   "outputs": [
    {
     "name": "stdout",
     "output_type": "stream",
     "text": [
      "(96, 66)\n"
     ]
    }
   ],
   "source": [
    "# Example Tuple\n",
    "\n",
    "TupleSlice = (96, 65, 66, 17, 51)\n",
    "\n",
    "print(TupleSlice[0:3:2])"
   ]
  },
  {
   "cell_type": "code",
   "execution_count": 64,
   "id": "c9ed95f0",
   "metadata": {},
   "outputs": [
    {
     "name": "stdout",
     "output_type": "stream",
     "text": [
      "(78, 98, 9)\n"
     ]
    }
   ],
   "source": [
    "T_Slice = (98, 78, 98, 9, 32)\n",
    "\n",
    "print(T_Slice[1:4])"
   ]
  },
  {
   "cell_type": "code",
   "execution_count": null,
   "id": "65446a9a",
   "metadata": {},
   "outputs": [],
   "source": [
    "# Q10. What is PYTHONPATH?"
   ]
  },
  {
   "cell_type": "code",
   "execution_count": null,
   "id": "823d9df4",
   "metadata": {},
   "outputs": [],
   "source": [
    "- It is an enviroment varible which is used when a module is imported.\n",
    "-Whenever a module is imported, PYTHONPATH is also looked up to check for the presence of the module in modules in various directories.\n",
    "-The interpreter uses it to determine which module to load."
   ]
  },
  {
   "cell_type": "code",
   "execution_count": null,
   "id": "403390ba",
   "metadata": {},
   "outputs": [],
   "source": [
    "# Q11. What are python module? Name some comnly used build in module in python?"
   ]
  },
  {
   "cell_type": "code",
   "execution_count": null,
   "id": "478618ab",
   "metadata": {},
   "outputs": [],
   "source": [
    "- Python module are files containing python code This can either be function or variables.\n",
    "- A python modules is  a py file contaning executable code.\n",
    "- Some  of the commonly used built in modules are:\n",
    "    1) os\n",
    "    2) sys\n",
    "    3) math\n",
    "    4) random\n",
    "    5) data time\n",
    "    6) JSON"
   ]
  }
 ],
 "metadata": {
  "kernelspec": {
   "display_name": "Python 3 (ipykernel)",
   "language": "python",
   "name": "python3"
  },
  "language_info": {
   "codemirror_mode": {
    "name": "ipython",
    "version": 3
   },
   "file_extension": ".py",
   "mimetype": "text/x-python",
   "name": "python",
   "nbconvert_exporter": "python",
   "pygments_lexer": "ipython3",
   "version": "3.8.8"
  }
 },
 "nbformat": 4,
 "nbformat_minor": 5
}
