{
 "cells": [
  {
   "cell_type": "markdown",
   "id": "78adc58e",
   "metadata": {},
   "source": [
    "# Python Operators"
   ]
  },
  {
   "cell_type": "code",
   "execution_count": 1,
   "id": "cbb7525b",
   "metadata": {},
   "outputs": [
    {
     "data": {
      "text/plain": [
       "'Operators are used to perform operations on variables and values.'"
      ]
     },
     "execution_count": 1,
     "metadata": {},
     "output_type": "execute_result"
    }
   ],
   "source": [
    "'Operators are used to perform operations on variables and values.'"
   ]
  },
  {
   "cell_type": "markdown",
   "id": "e8e0ba77",
   "metadata": {},
   "source": [
    "- Arithmetic operators\n",
    "- Assigment operators\n",
    "- Comparison operators\n",
    "- Logical operators\n",
    "- Identity iperators\n",
    "- Membership operators\n",
    "- Bitwise operators"
   ]
  },
  {
   "cell_type": "code",
   "execution_count": 2,
   "id": "c1e46d60",
   "metadata": {},
   "outputs": [],
   "source": [
    "# Python Arithmetic Operators"
   ]
  },
  {
   "cell_type": "markdown",
   "id": "a1052d13",
   "metadata": {},
   "source": [
    "1) Addition(+):\n",
    "    x + y\n",
    "\n",
    "2) Subtraction(-):\n",
    "    x - y\n",
    "    \n",
    "3) Multiplication(*):\n",
    "    x * y\n",
    "    \n",
    "4) Division(/):\n",
    "    x/y\n",
    "    \n",
    "5) Module(%):\n",
    "    x % y\n",
    "    \n",
    "6) Exponentiation(**):\n",
    "    x ** y\n",
    "    \n",
    "7) Floor division(//):\n",
    "    x // y"
   ]
  },
  {
   "cell_type": "code",
   "execution_count": 3,
   "id": "f8ca3d4c",
   "metadata": {},
   "outputs": [],
   "source": [
    "# Python Assignment Operators"
   ]
  },
  {
   "cell_type": "markdown",
   "id": "83cbc080",
   "metadata": {},
   "source": [
    "'Assignment operators are used to assign values to variables:'\n",
    "\n",
    "1) = (x = 5):\n",
    "x = 5\n",
    "\n",
    "2) += (x += 3):\n",
    "x = x + 3\n",
    "\n",
    "3) -= (x-=3):\n",
    "x = x-3\n",
    "\n",
    "4) *= (x*=3) :\n",
    "x = x*3\n",
    "\n",
    "5) /= (x/=3):\n",
    "x=x/3\n",
    "\n",
    "6) %= (x%=3):\n",
    "x = x%3\n",
    "\n",
    "7) //= (x//=3):\n",
    "x = x//3\n",
    "\n",
    "8) **= (x**=3) :\n",
    "x = x**3\n",
    "\n",
    "9) &= (x&=3):\n",
    "x = x & 3\n",
    "\n",
    "10) |= (x|3):\n",
    "x = x|3\n",
    "\n",
    "11) ^= (x^=3):\n",
    "x = x^3\n",
    "\n",
    "12) >>= (x>>=3):\n",
    "x = x>>3\n",
    "\n",
    "13) <<= (x<<=3):\n",
    "x = x<<3"
   ]
  },
  {
   "cell_type": "code",
   "execution_count": 4,
   "id": "9792b5bc",
   "metadata": {},
   "outputs": [],
   "source": [
    "# Python Comparison Operators:"
   ]
  },
  {
   "cell_type": "markdown",
   "id": "00f11c9f",
   "metadata": {},
   "source": [
    "'Comparison operators are used to compare two values'\n",
    "\n",
    "1) == (Equal):\n",
    "    x==y\n",
    "    \n",
    "2) != (Not equal):\n",
    "    x!=y\n",
    "\n",
    "3) > (Greater than):\n",
    "    x>y\n",
    "    \n",
    "4) < (Less than):\n",
    "    x<y\n",
    "\n",
    "5) >=(Greater than or qual to):\n",
    "    x>=y\n",
    "    \n",
    "6) <= (Less than or eual to):\n",
    "    x<=y"
   ]
  },
  {
   "cell_type": "code",
   "execution_count": 5,
   "id": "3a9bc616",
   "metadata": {},
   "outputs": [],
   "source": [
    "# Python Loiacl Operators"
   ]
  },
  {
   "cell_type": "markdown",
   "id": "eba9177d",
   "metadata": {},
   "source": [
    "' Logiacl operators ar used to combine conditional statements'\n",
    "\n",
    "1) and - Returns True if both statements are true.\n",
    "x<5 and x<10\n",
    "\n",
    "2) or - Returns True if one of the statements is true.\n",
    "x<5 or x<4\n",
    "\n",
    "3) not - Reverse the  result, returns False if the result is true.\n",
    "not(x<5 and x<10)"
   ]
  },
  {
   "cell_type": "code",
   "execution_count": 6,
   "id": "aa780853",
   "metadata": {},
   "outputs": [],
   "source": [
    "# Python Membership Operators"
   ]
  },
  {
   "cell_type": "markdown",
   "id": "33627123",
   "metadata": {},
   "source": [
    "- Memnership operators are used to test if sequence is presented in an object\n",
    "\n",
    "1) in - (Returns True if a sequence with the specified value is presence in the object).\n",
    "x in y\n",
    "\n",
    "2) not in - (Returns True ifa sequence with the specified value is not presence in the object.)\n",
    "x not in y"
   ]
  },
  {
   "cell_type": "code",
   "execution_count": 7,
   "id": "312f588a",
   "metadata": {},
   "outputs": [],
   "source": [
    "# Python Bitwise Operators"
   ]
  },
  {
   "cell_type": "markdown",
   "id": "742684d8",
   "metadata": {},
   "source": [
    "- Bitwise operators sre used to compare(binary) numbers:\n",
    "    \n",
    "1) & (AND):\n",
    "    Set each nit to 1 if both bits are 1.\n",
    "    \n",
    "2) | (OR):\n",
    "    Sets each bit to 1 if one of two bits is 1.\n",
    "    \n",
    "3) ^ (XOR):\n",
    "    Sets each bit to 1 if only one of two bits is 1\n",
    "    \n",
    "4) ~ (NOT):\n",
    "    Inverts all the bits\n",
    "    \n",
    "5) << (Zero fill left shoft):\n",
    "    Shift left by pushing zeros in from the right and let the leftmost bits fall off.\n",
    "    \n",
    "6) >> (Signed right shift):\n",
    "    Shift right by pushing copies of the leftmost bit in from the left, and let the rightmost bits fall off"
   ]
  }
 ],
 "metadata": {
  "kernelspec": {
   "display_name": "Python 3 (ipykernel)",
   "language": "python",
   "name": "python3"
  },
  "language_info": {
   "codemirror_mode": {
    "name": "ipython",
    "version": 3
   },
   "file_extension": ".py",
   "mimetype": "text/x-python",
   "name": "python",
   "nbconvert_exporter": "python",
   "pygments_lexer": "ipython3",
   "version": "3.8.8"
  }
 },
 "nbformat": 4,
 "nbformat_minor": 5
}
